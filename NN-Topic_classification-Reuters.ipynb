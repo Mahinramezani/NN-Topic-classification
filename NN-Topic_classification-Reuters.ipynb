{
 "cells": [
  {
   "cell_type": "code",
   "execution_count": 1,
   "metadata": {
    "colab": {
     "base_uri": "https://localhost:8080/",
     "height": 853
    },
    "colab_type": "code",
    "id": "qaXMpbAN1DZb",
    "outputId": "d8c6e79c-5c03-431c-d413-87b3b1bd8760"
   },
   "outputs": [
    {
     "name": "stderr",
     "output_type": "stream",
     "text": [
      "Using TensorFlow backend.\n"
     ]
    },
    {
     "name": "stdout",
     "output_type": "stream",
     "text": [
      "WARNING:tensorflow:From /usr/local/lib/python3.6/dist-packages/tensorflow/python/framework/op_def_library.py:263: colocate_with (from tensorflow.python.framework.ops) is deprecated and will be removed in a future version.\n",
      "Instructions for updating:\n",
      "Colocations handled automatically by placer.\n",
      "WARNING:tensorflow:From /usr/local/lib/python3.6/dist-packages/tensorflow/python/ops/math_ops.py:3066: to_int32 (from tensorflow.python.ops.math_ops) is deprecated and will be removed in a future version.\n",
      "Instructions for updating:\n",
      "Use tf.cast instead.\n",
      "Train on 7982 samples, validate on 1000 samples\n",
      "Epoch 1/20\n",
      "7982/7982 [==============================] - 1s 164us/step - loss: 2.5322 - acc: 0.4955 - val_loss: 1.7208 - val_acc: 0.6120\n",
      "Epoch 2/20\n",
      "7982/7982 [==============================] - 1s 140us/step - loss: 1.4452 - acc: 0.6879 - val_loss: 1.3459 - val_acc: 0.7060\n",
      "Epoch 3/20\n",
      "7982/7982 [==============================] - 1s 141us/step - loss: 1.0953 - acc: 0.7651 - val_loss: 1.1708 - val_acc: 0.7430\n",
      "Epoch 4/20\n",
      "7982/7982 [==============================] - 1s 139us/step - loss: 0.8697 - acc: 0.8165 - val_loss: 1.0793 - val_acc: 0.7590\n",
      "Epoch 5/20\n",
      "7982/7982 [==============================] - 1s 137us/step - loss: 0.7034 - acc: 0.8472 - val_loss: 0.9844 - val_acc: 0.7810\n",
      "Epoch 6/20\n",
      "7982/7982 [==============================] - 1s 139us/step - loss: 0.5667 - acc: 0.8802 - val_loss: 0.9411 - val_acc: 0.8040\n",
      "Epoch 7/20\n",
      "7982/7982 [==============================] - 1s 139us/step - loss: 0.4581 - acc: 0.9048 - val_loss: 0.9083 - val_acc: 0.8020\n",
      "Epoch 8/20\n",
      "7982/7982 [==============================] - 1s 137us/step - loss: 0.3695 - acc: 0.9231 - val_loss: 0.9363 - val_acc: 0.7890\n",
      "Epoch 9/20\n",
      "7982/7982 [==============================] - 1s 138us/step - loss: 0.3032 - acc: 0.9315 - val_loss: 0.8917 - val_acc: 0.8090\n",
      "Epoch 10/20\n",
      "7982/7982 [==============================] - 1s 135us/step - loss: 0.2537 - acc: 0.9414 - val_loss: 0.9071 - val_acc: 0.8110\n",
      "Epoch 11/20\n",
      "7982/7982 [==============================] - 1s 140us/step - loss: 0.2187 - acc: 0.9471 - val_loss: 0.9177 - val_acc: 0.8130\n",
      "Epoch 12/20\n",
      "7982/7982 [==============================] - 1s 142us/step - loss: 0.1873 - acc: 0.9508 - val_loss: 0.9027 - val_acc: 0.8130\n",
      "Epoch 13/20\n",
      "7982/7982 [==============================] - 1s 139us/step - loss: 0.1703 - acc: 0.9521 - val_loss: 0.9323 - val_acc: 0.8110\n",
      "Epoch 14/20\n",
      "7982/7982 [==============================] - 1s 137us/step - loss: 0.1536 - acc: 0.9554 - val_loss: 0.9689 - val_acc: 0.8050\n",
      "Epoch 15/20\n",
      "7982/7982 [==============================] - 1s 137us/step - loss: 0.1390 - acc: 0.9560 - val_loss: 0.9686 - val_acc: 0.8150\n",
      "Epoch 16/20\n",
      "7982/7982 [==============================] - 1s 139us/step - loss: 0.1313 - acc: 0.9560 - val_loss: 1.0220 - val_acc: 0.8060\n",
      "Epoch 17/20\n",
      "7982/7982 [==============================] - 1s 137us/step - loss: 0.1217 - acc: 0.9579 - val_loss: 1.0254 - val_acc: 0.7970\n",
      "Epoch 18/20\n",
      "7982/7982 [==============================] - 1s 139us/step - loss: 0.1198 - acc: 0.9582 - val_loss: 1.0430 - val_acc: 0.8060\n",
      "Epoch 19/20\n",
      "7982/7982 [==============================] - 1s 140us/step - loss: 0.1138 - acc: 0.9597 - val_loss: 1.0955 - val_acc: 0.7970\n",
      "Epoch 20/20\n",
      "7982/7982 [==============================] - 1s 138us/step - loss: 0.1111 - acc: 0.9593 - val_loss: 1.0674 - val_acc: 0.8020\n"
     ]
    }
   ],
   "source": [
    "import numpy as np\n",
    "from keras.datasets import reuters\n",
    "from keras.utils import to_categorical\n",
    "from keras import models\n",
    "from keras import layers\n",
    "import matplotlib.pyplot as plt\n",
    "\n",
    "\n",
    "# load the data\n",
    "(X_train, Y_train), (X_test, Y_test) = reuters.load_data(num_words = 10000)\n",
    "\n",
    "\n",
    "# prepare the data\n",
    "def vectorize_data(x, dimension=10000):\n",
    "  result = np.zeros((len(x), dimension))\n",
    "  for i, word in enumerate(x):\n",
    "    result[i, word] = 1\n",
    "  return result\n",
    "\n",
    "x_train = vectorize_data(X_train)\n",
    "x_test = vectorize_data(X_test)\n",
    "\n",
    "y_train = to_categorical(Y_train)\n",
    "y_test = to_categorical(Y_test)\n",
    "\n",
    "\n",
    "# partition train data into training set and validation set\n",
    "x_val = x_train[:1000]\n",
    "partial_x_train = x_train[1000:]\n",
    "y_val = y_train[:1000]\n",
    "partial_y_train = y_train[1000:]\n",
    "\n",
    "\n",
    "# build the NN\n",
    "network = models.Sequential()\n",
    "network.add(layers.Dense(64, activation = 'relu', input_shape=(10000,)))\n",
    "network.add(layers.Dense(64, activation = 'relu'))\n",
    "network.add(layers.Dense(46, activation = 'softmax'))\n",
    "\n",
    "# choose loss function, optimizer, and target metrics\n",
    "network.compile(optimizer = 'rmsprop',\n",
    "               loss = 'categorical_crossentropy',\n",
    "               metrics = ['accuracy'])\n",
    "\n",
    "\n",
    "# train the NN\n",
    "history = network.fit(partial_x_train,\n",
    "                     partial_y_train,\n",
    "                     epochs = 20,\n",
    "                     batch_size = 512,\n",
    "                     validation_data = (x_val, y_val))\n"
   ]
  },
  {
   "cell_type": "code",
   "execution_count": 2,
   "metadata": {
    "colab": {
     "base_uri": "https://localhost:8080/",
     "height": 376
    },
    "colab_type": "code",
    "id": "Cxo1Rj53wzNb",
    "outputId": "7eb70478-a3d8-4f2e-8f94-cf9ef411e59e"
   },
   "outputs": [
    {
     "data": {
      "image/png": "[encoded data removed]",
      "text/plain": [
       "<Figure size 576x396 with 1 Axes>"
      ]
     },
     "metadata": {
      "tags": []
     },
     "output_type": "display_data"
    }
   ],
   "source": [
    "# plotting the training and validation loss\n",
    "\n",
    "epochs = range(1,21)\n",
    "plt.plot(epochs, history.history['loss'], 'bo', label = 'training loss')\n",
    "plt.plot(epochs, history.history['val_loss'], 'b', label = 'validation loss')\n",
    "plt.title('Training and validation loss')\n",
    "plt.ylabel('loss')\n",
    "plt.xlabel('epochs')\n",
    "plt.legend()\n",
    "plt.show()"
   ]
  },
  {
   "cell_type": "code",
   "execution_count": 3,
   "metadata": {
    "colab": {
     "base_uri": "https://localhost:8080/",
     "height": 376
    },
    "colab_type": "code",
    "id": "K_hMt2b05kQl",
    "outputId": "a7429cfe-8ccf-4b49-aa60-28cb42f903c4"
   },
   "outputs": [
    {
     "data": {
      "image/png": "[encoded data removed]",
      "text/plain": [
       "<Figure size 576x396 with 1 Axes>"
      ]
     },
     "metadata": {
      "tags": []
     },
     "output_type": "display_data"
    }
   ],
   "source": [
    "# plotting the training and validation accuracy\n",
    "\n",
    "epochs = range(1,21)\n",
    "plt.plot(epochs, history.history['acc'], 'go', label = 'training accuracy')\n",
    "plt.plot(epochs, history.history['val_acc'], 'g', label = 'validation accuracy')\n",
    "plt.title('Training and validation accuracy')\n",
    "plt.ylabel('accuracy')\n",
    "plt.xlabel('epochs')\n",
    "plt.legend()\n",
    "plt.show()"
   ]
  },
  {
   "cell_type": "code",
   "execution_count": 4,
   "metadata": {
    "colab": {
     "base_uri": "https://localhost:8080/",
     "height": 340
    },
    "colab_type": "code",
    "id": "5IDBxOmN5uxr",
    "outputId": "d721b6b4-f94c-47d0-9504-a9657643d605"
   },
   "outputs": [
    {
     "name": "stdout",
     "output_type": "stream",
     "text": [
      "Epoch 1/9\n",
      "8982/8982 [==============================] - 1s 128us/step - loss: 0.2079 - acc: 0.9428\n",
      "Epoch 2/9\n",
      "8982/8982 [==============================] - 1s 127us/step - loss: 0.1677 - acc: 0.9470\n",
      "Epoch 3/9\n",
      "8982/8982 [==============================] - 1s 128us/step - loss: 0.1477 - acc: 0.9500\n",
      "Epoch 4/9\n",
      "8982/8982 [==============================] - 1s 132us/step - loss: 0.1352 - acc: 0.9525\n",
      "Epoch 5/9\n",
      "8982/8982 [==============================] - 1s 127us/step - loss: 0.1271 - acc: 0.9534\n",
      "Epoch 6/9\n",
      "8982/8982 [==============================] - 1s 127us/step - loss: 0.1226 - acc: 0.9544\n",
      "Epoch 7/9\n",
      "8982/8982 [==============================] - 1s 128us/step - loss: 0.1146 - acc: 0.9547\n",
      "Epoch 8/9\n",
      "8982/8982 [==============================] - 1s 142us/step - loss: 0.1136 - acc: 0.9547\n",
      "Epoch 9/9\n",
      "8982/8982 [==============================] - 1s 127us/step - loss: 0.1124 - acc: 0.9550\n"
     ]
    },
    {
     "data": {
      "text/plain": [
       "<keras.callbacks.History at 0x7f72d007def0>"
      ]
     },
     "execution_count": 4,
     "metadata": {
      "tags": []
     },
     "output_type": "execute_result"
    }
   ],
   "source": [
    "# NN starts to overfit after about 9 epochs; \n",
    "# so we train NN from scratch for 9 epochs and using all training set\n",
    "\n",
    "network.fit(x_train, y_train, epochs = 9, batch_size=512)"
   ]
  },
  {
   "cell_type": "code",
   "execution_count": 5,
   "metadata": {
    "colab": {
     "base_uri": "https://localhost:8080/",
     "height": 68
    },
    "colab_type": "code",
    "id": "0S_gX-M36H-z",
    "outputId": "4257b38a-3aca-4cc6-e718-f34e83947453"
   },
   "outputs": [
    {
     "name": "stdout",
     "output_type": "stream",
     "text": [
      "2246/2246 [==============================] - 0s 94us/step\n",
      "test_loss:  1.3245905180223692\n",
      "test_accuracy:  0.7773820124931454\n"
     ]
    }
   ],
   "source": [
    "# test the NN\n",
    "\n",
    "test_loss, test_accuracy = network.evaluate(x_test, y_test)\n",
    "print('test_loss: ',test_loss)\n",
    "print('test_accuracy: ', test_accuracy)"
   ]
  },
  {
   "cell_type": "code",
   "execution_count": 6,
   "metadata": {
    "colab": {
     "base_uri": "https://localhost:8080/",
     "height": 68
    },
    "colab_type": "code",
    "id": "1VleYY_k6RzC",
    "outputId": "892d200a-5561-48a5-833f-6622deed614f"
   },
   "outputs": [
    {
     "name": "stdout",
     "output_type": "stream",
     "text": [
      "(46,)\n",
      "1.0\n",
      "10\n"
     ]
    }
   ],
   "source": [
    "# Use the NN for prediction\n",
    "\n",
    "predictions = network.predict(x_test)\n",
    "print(predictions[0].shape)\n",
    "print(np.sum(predictions[1]))\n",
    "print(np.argmax(predictions[1]))"
   ]
  }
 ],
 "metadata": {
  "colab": {
   "name": "assignment 2-NN-Topic classification using Reuters Dataset.ipynb",
   "provenance": [],
   "version": "0.3.2"
  },
  "kernelspec": {
   "display_name": "Python 3",
   "language": "python",
   "name": "python3"
  },
  "language_info": {
   "codemirror_mode": {
    "name": "ipython",
    "version": 3
   },
   "file_extension": ".py",
   "mimetype": "text/x-python",
   "name": "python",
   "nbconvert_exporter": "python",
   "pygments_lexer": "ipython3",
   "version": "3.6.6"
  }
 },
 "nbformat": 4,
 "nbformat_minor": 1
}
